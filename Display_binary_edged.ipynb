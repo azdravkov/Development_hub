{
 "cells": [
  {
   "cell_type": "code",
   "execution_count": 41,
   "metadata": {},
   "outputs": [],
   "source": [
    "import random, os\n",
    "import argparse\n",
    "import cv2\n",
    "from matplotlib import pyplot as plt\n",
    "import numpy as np\n",
    "import ipywidgets as widgets\n",
    "from IPython.display import display"
   ]
  },
  {
   "cell_type": "code",
   "execution_count": 42,
   "metadata": {},
   "outputs": [
    {
     "data": {
      "application/vnd.jupyter.widget-view+json": {
       "model_id": "a545303e42d2405ab50ffb818821ceca",
       "version_major": 2,
       "version_minor": 0
      },
      "text/plain": [
       "Text(value='', description='Images Directory:', placeholder='Paste images directory path')"
      ]
     },
     "metadata": {},
     "output_type": "display_data"
    }
   ],
   "source": [
    "text = widgets.Text(\n",
    "    placeholder='Paste images directory path',\n",
    "    description='Images Directory:',\n",
    "    disabled=False\n",
    ")\n",
    "display(text)"
   ]
  },
  {
   "cell_type": "code",
   "execution_count": 43,
   "metadata": {},
   "outputs": [],
   "source": [
    "global path\n",
    "path = text.value\n",
    "\n",
    "dir_list = os.listdir(path)\n",
    "new_dir_list = dir_list.copy()\n",
    "global image"
   ]
  },
  {
   "cell_type": "code",
   "execution_count": 44,
   "metadata": {},
   "outputs": [],
   "source": [
    "def image_path(b):\n",
    "    with out:\n",
    "        global image\n",
    "        new_path = path\n",
    "        cv2.namedWindow(\"Original Image\")\n",
    "        #if cv2.getWindowProperty(\"Original Image\", cv2.WND_PROP_VISIBLE) == 1:\n",
    "            #cv2.destroyWindow(\"Original Image\")\n",
    "        for element in new_dir_list:\n",
    "            if element.endswith(\"C.tif\"):\n",
    "                original_image = cv2.imread(new_path + str(element))\n",
    "                break\n",
    "        original_image = cv2.resize(original_image,(640,480))\n",
    "        cv2.imshow(\"Original Image\", original_image)\n",
    "        #cv2.destroyAllWindows()\n",
    "        k = cv2.waitKey()\n",
    "        if k == 27 or k == ord(\"q\"):         \n",
    "            cv2.destroyAllWindows()\n",
    "        new_dir_list.remove(element)\n",
    "        #print(new_dir_list)"
   ]
  },
  {
   "cell_type": "code",
   "execution_count": 45,
   "metadata": {},
   "outputs": [],
   "source": [
    "def on_button_clicked(b):\n",
    "    with out:\n",
    "        global image\n",
    "        original_image = image.copy()\n",
    "        cv2.namedWindow(\"Binary Image\")\n",
    "            \n",
    "        grayImage = cv2.cvtColor(cv2.UMat(original_image), cv2.COLOR_BGR2GRAY)\n",
    "        (thresh, binary_image) = cv2.threshold(grayImage, 127, 255, cv2.THRESH_BINARY)\n",
    "        #print(binary_image)\n",
    "    #img = cv2.medianBlur(original_image,5).astype('uint8')\n",
    "    #binary_image = cv2.adaptiveThreshold(cv2.UMat(img),255,cv2.ADAPTIVE_THRESH_GAUSSIAN_C,\n",
    "    #cv2.THRESH_BINARY,11,2)\n",
    "        cv2.imshow(\"Binary Image\",binary_image)\n",
    "        k = cv2.waitKey()\n",
    "        if k == 27 or k == ord(\"q\"):         \n",
    "            cv2.destroyAllWindows()"
   ]
  },
  {
   "cell_type": "code",
   "execution_count": 46,
   "metadata": {},
   "outputs": [],
   "source": [
    "def edge_detection(b):\n",
    "    with out:\n",
    "        global image\n",
    "        original_image = image.copy()\n",
    "        cv2.namedWindow(\"Edged Image\")\n",
    "            \n",
    "        #print(original_image)\n",
    "        gray = cv2.cvtColor(original_image, cv2.COLOR_BGR2GRAY)\n",
    "        original_image = cv2.GaussianBlur(gray, (3,3), 0)\n",
    "        edged_image = cv2.Laplacian(original_image, cv2.CV_64F)\n",
    "        cv2.imshow(\"Edged Image\",edged_image)\n",
    "        k = cv2.waitKey()\n",
    "        if k == 27 or k == ord(\"q\"):         \n",
    "            cv2.destroyAllWindows()"
   ]
  },
  {
   "cell_type": "code",
   "execution_count": 87,
   "metadata": {},
   "outputs": [],
   "source": [
    "def all_in_one(b):\n",
    "    new_path = path\n",
    "    for element in new_dir_list:\n",
    "        if element.endswith(\"C.tif\"):\n",
    "            original_image = cv2.imread(new_path + str(element))\n",
    "            break\n",
    "    #original_image = cv2.resize(original_image, (0, 0), None, .25, .25)\n",
    "    binary_grayImage = cv2.cvtColor(cv2.UMat(original_image), cv2.COLOR_BGR2GRAY)\n",
    "\n",
    "    (thresh, binary_image) = cv2.threshold(binary_grayImage, 127, 255, cv2.THRESH_BINARY)\n",
    "    \n",
    "    edged_gray = cv2.cvtColor(original_image, cv2.COLOR_BGR2GRAY)\n",
    "    gray_original_image = cv2.GaussianBlur(edged_gray, (3,3), 0)\n",
    "    edged_image = cv2.Laplacian(gray_original_image, cv2.CV_64F)\n",
    "    \n",
    "    new_dir_list.remove(element)\n",
    "    binary_3_channel = cv2.cvtColor(binary_grayImage, cv2.COLOR_GRAY2BGR)\n",
    "    #print(binary_3_channel)\n",
    "    #img2 = np.zeros_like(original_image)\n",
    "    #img2[:,:,0] = binary_grayImage\n",
    "    #img2[:,:,1] = binary_grayImage\n",
    "    #img2[:,:,2] = binary_grayImage\n",
    "    #binary_3_channel = cv2.merge((binary_image,binary_image,binary_image))\n",
    "    #binary_3_channel = np.zeros( ( np.array(binary_image).shape[0], np.array(binary_image).shape[1], 3 ) )\n",
    "    #edged_3_channel = cv2.cvtColor(edged_image, cv2.COLOR_GRAY2BGR)\n",
    "    #numpy_horizontal = np.hstack((original_image, binary_3_channel))\n",
    "    #numpy_horizontal_concat = np.concatenate((original_image, binary_3_channel), axis=1)\n",
    "    #im_h = cv2.hconcat([original_image, binary_3_channel])\n",
    "    #cv2.imshow('Numpy Horizontal Concat',numpy_horizontal_concat)\n",
    "    cv2.imshow(\"Original\", original_image)\n",
    "    cv2.imshow(\"Binary Image\", binary_image)\n",
    "    cv2.imshow(\"Edged Image\", edged_image)\n",
    "    k = cv2.waitKey()\n",
    "    if k == 27 or k == ord(\"q\"):         \n",
    "        cv2.destroyAllWindows()"
   ]
  },
  {
   "cell_type": "code",
   "execution_count": 88,
   "metadata": {
    "scrolled": true
   },
   "outputs": [
    {
     "data": {
      "application/vnd.jupyter.widget-view+json": {
       "model_id": "d61fdba6f16c4e169f4397f7546c7f21",
       "version_major": 2,
       "version_minor": 0
      },
      "text/plain": [
       "HBox(children=(VBox(children=(Button(description='First, Next Image', style=ButtonStyle()), Button(description…"
      ]
     },
     "metadata": {},
     "output_type": "display_data"
    },
    {
     "name": "stdout",
     "output_type": "stream",
     "text": [
      "<UMat 0x7f0c5c450f30>\n"
     ]
    }
   ],
   "source": [
    "binary_button = widgets.Button(description=\"Bynary Image\")\n",
    "edge_button = widgets.Button(description=\"Edged Image\")\n",
    "next_button = widgets.Button(description=\"First, Next Image\")\n",
    "all_button = widgets.Button(description=\"All in one\")\n",
    "out = widgets.Output()\n",
    "\n",
    "\n",
    "buttons = widgets.VBox(children=[next_button, binary_button, edge_button, all_button])\n",
    "all_widgets = widgets.HBox(children=[buttons, out])\n",
    "display(all_widgets)\n",
    "\n",
    "        \n",
    "binary_button.on_click(on_button_clicked)\n",
    "edge_button.on_click(edge_detection)\n",
    "next_button.on_click(image_path)\n",
    "all_button.on_click(all_in_one)\n"
   ]
  },
  {
   "cell_type": "code",
   "execution_count": null,
   "metadata": {},
   "outputs": [],
   "source": []
  }
 ],
 "metadata": {
  "kernelspec": {
   "display_name": "Python 3",
   "language": "python",
   "name": "python3"
  },
  "language_info": {
   "codemirror_mode": {
    "name": "ipython",
    "version": 3
   },
   "file_extension": ".py",
   "mimetype": "text/x-python",
   "name": "python",
   "nbconvert_exporter": "python",
   "pygments_lexer": "ipython3",
   "version": "3.6.9"
  }
 },
 "nbformat": 4,
 "nbformat_minor": 4
}
