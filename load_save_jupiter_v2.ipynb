{
 "cells": [
  {
   "cell_type": "code",
   "execution_count": null,
   "metadata": {},
   "outputs": [],
   "source": [
    "import random, os\n",
    "import argparse\n",
    "import cv2\n",
    "from matplotlib import pyplot as plt\n",
    "import numpy as np\n",
    "import ipywidgets as widgets\n",
    "from IPython.display import display"
   ]
  },
  {
   "cell_type": "code",
   "execution_count": null,
   "metadata": {},
   "outputs": [],
   "source": [
    "text = widgets.Text(\n",
    "    placeholder='Paste images directory path',\n",
    "    description='Images Directory:',\n",
    "    disabled=False\n",
    ")\n",
    "display(text)"
   ]
  },
  {
   "cell_type": "code",
   "execution_count": null,
   "metadata": {},
   "outputs": [],
   "source": [
    "slidebar = widgets.IntSlider(\n",
    "description='images number:')\n",
    "display(slidebar)"
   ]
  },
  {
   "cell_type": "code",
   "execution_count": null,
   "metadata": {},
   "outputs": [],
   "source": [
    "path = text.value\n",
    "\n",
    "region_path = path + \"reference/Region.tup\"\n",
    "\n",
    "batch = slidebar.value\n",
    "\n",
    "coordinates = np.genfromtxt(str(region_path) , skip_header= 1, usecols = 1)"
   ]
  },
  {
   "cell_type": "code",
   "execution_count": null,
   "metadata": {},
   "outputs": [],
   "source": [
    "path_save = os.getcwd()\n",
    "testDir = os.path.isdir(path_save + \"/cropped\")    \n",
    "if testDir == False:\n",
    "          os.makedirs(path_save + \"/cropped/\")\n",
    "                \n",
    "save_folder = str(path_save + \"/cropped/\")\n",
    "random_list = []\n",
    "random_list = os.listdir(path)"
   ]
  },
  {
   "cell_type": "code",
   "execution_count": null,
   "metadata": {},
   "outputs": [],
   "source": [
    "button = widgets.Button(description=\"Start\")\n",
    "output = widgets.Output()\n",
    "display(button, output)\n",
    "def on_button_clicked(b):\n",
    "    with output:\n",
    "        count = 1\n",
    "        while count <= int(batch):\n",
    "            random_filename = random.choice([\n",
    "            x for x in random_list\n",
    "            if os.path.isfile(os.path.join(path, x)) and\n",
    "            x.endswith('C.tif')\n",
    "            ])\n",
    "            random_list.remove(random_filename)\n",
    "            image_C = cv2.imread(path + str(random_filename))\n",
    "            n = 5\n",
    "            base_name = random_filename[:-n]\n",
    "            image_I = cv2.imread(path + str(base_name) + \"I.tif\")\n",
    "            image_Z = cv2.imread(path + str(base_name) + \"Z.tif\", cv2.IMREAD_UNCHANGED)\n",
    "    \n",
    "            start_x = coordinates[0]\n",
    "            start_y = coordinates[1]\n",
    "            end_x = coordinates[2]\n",
    "            end_y = coordinates[3]\n",
    "    \n",
    "    \n",
    "            cropped_C = image_C[int(start_x):int(end_x), int(start_y):int(end_y)]\n",
    "            cropped_I = image_I[int(start_x):int(end_x), int(start_y):int(end_y)]\n",
    "            cropped_Z = image_Z[int(start_x):int(end_x), int(start_y):int(end_y)]\n",
    "\n",
    "            cv2.imwrite(os.path.join(save_folder, str(base_name)) + \"C_cropped.tif\", cropped_C)\n",
    "            cv2.imwrite(os.path.join(save_folder, str(base_name)) + \"I_cropped.tif\", cropped_I)\n",
    "            cv2.imwrite(os.path.join(save_folder, str(base_name)) + \"Z_cropped.tif\", cropped_Z)\n",
    "            cv2.imshow(\"Color\", cropped_C)\n",
    "            cv2.waitKey(1000)\n",
    "            cv2.destroyAllWindows()\n",
    "            #plt.imshow(cropped_C)\n",
    "            #plt.show(block=False)\n",
    "            #plt.pause(1)\n",
    "            #plt.close()\n",
    "            print(\"The \" + str(count) + \" Is Done\")\n",
    "            count += 1 \n",
    "        print(\"Finished\")\n",
    "button.on_click(on_button_clicked)\n",
    "       "
   ]
  },
  {
   "cell_type": "code",
   "execution_count": null,
   "metadata": {},
   "outputs": [],
   "source": []
  }
 ],
 "metadata": {
  "kernelspec": {
   "display_name": "Python 3",
   "language": "python",
   "name": "python3"
  },
  "language_info": {
   "codemirror_mode": {
    "name": "ipython",
    "version": 3
   },
   "file_extension": ".py",
   "mimetype": "text/x-python",
   "name": "python",
   "nbconvert_exporter": "python",
   "pygments_lexer": "ipython3",
   "version": "3.6.9"
  }
 },
 "nbformat": 4,
 "nbformat_minor": 4
}
